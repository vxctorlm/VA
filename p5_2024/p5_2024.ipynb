{
 "cells": [
  {
   "metadata": {},
   "cell_type": "markdown",
   "source": [
    "==============================================================================================\n",
    "# Practicum 5\n",
    "\n",
    "=============================================================================================="
   ]
  },
  {
   "metadata": {},
   "cell_type": "markdown",
   "source": [
    "## Delivery\n",
    "\n",
    "Your overall grading will be penalized if the following requirements are not fulfilled:\n",
    "\n",
    "- Implemented code should be commented exhaustively and in **English**. \n",
    "\n",
    "- The questions introduced in the exercises must be answered.\n",
    "\n",
    "- Add title to the figures to explain what is displayed.\n",
    "\n",
    "- Answers to questions also need to be in **English**.\n",
    "\n",
    "- Make sure to print and plot exactly what it is indicated. If a reference image is provided, your output is expected to be exactly the same unless instructed differently. \n",
    "\n",
    "- The deliverable of both parts must be a file named **P5_Student1_Student2.zip** that includes:\n",
    "    - The notebook P5_Student1_Student2.ipynb completed with the solutions to the exercises and their corresponding comments.\n",
    "    - All the images used in this notebook (upload the ones that were not provided)\n",
    "    \n",
    "- It is required that your code can be run by us without need of any modification and without getting any errors.\n",
    "\n",
    "- Use packages and solutions that were covered in your class and tutorials. If you are unsure about using a particular package, you should seek clarification from your instructor to confirm whether it is allowed.\n",
    "\n",
    "- Please refrain from utilizing resources like ChatGPT to complete this lab assignment.\n",
    "\n",
    "\n",
    "**Deadline: December 22th, 23:00 h**\n",
    "\n",
    "==============================================================================================\n",
    "\n",
    "This lab covers the following topics: \n",
    "* Gaussian filters\n",
    "* Descriptors based on texture\n",
    "* Distance between images and similarity search\n",
    "* Face detection using:\n",
    "    * Haar-like features\n",
    "    * Adaboost\n",
    "    * PCA\n",
    "\n"
   ]
  },
  {
   "metadata": {},
   "cell_type": "markdown",
   "source": [
    "==============================================================================================\n",
    "##  Image search using textures\n",
    "==============================================================================================\n",
    "\n",
    "#### Problem we want to solve\n",
    "- Given a query image **$x$** and a set of images **$X$** we would like to retreive the most similar to **$x$** images from  **$X$**.\n",
    "\n"
   ]
  },
  {
   "metadata": {},
   "cell_type": "markdown",
   "source": "### Imports"
  },
  {
   "metadata": {},
   "cell_type": "code",
   "outputs": [],
   "execution_count": null,
   "source": [
    "from skimage.io import imread_collection\n",
    "%matplotlib inline\n",
    "# GENERAL ONES FOR IMAGE ANALYSIS\n",
    "import time\n",
    "import scipy\n",
    "import numpy as np\n",
    "import skimage\n",
    "from skimage import filters\n",
    "from skimage import io\n",
    "from skimage.color import rgb2gray, rgba2rgb\n",
    "from skimage.transform import resize\n",
    "import os\n",
    "import matplotlib.pyplot as plt\n",
    "import warnings\n",
    "warnings.filterwarnings('ignore')\n",
    "from time import time\n",
    "### FACE DETECTION\n",
    "from skimage.feature import haar_like_feature\n",
    "from skimage.feature import haar_like_feature_coord\n",
    "from skimage.feature import draw_haar_like_feature\n",
    "from skimage.transform import integral_image\n",
    "\n",
    "### FACE RECOGNITION\n",
    "# Load the dataset\n",
    "from sklearn.datasets import fetch_lfw_people \n",
    "# Classification and results\n",
    "from sklearn.model_selection import train_test_split \n",
    "from sklearn.decomposition import PCA\n",
    "from sklearn.metrics import classification_report "
   ]
  },
  {
   "metadata": {},
   "cell_type": "markdown",
   "source": [
    "# Derivative of Gaussians aka Leung-Malik (LM) Filter Bank\n",
    "We can apply a collection of multiple filters that we call a filter bank. Note that if we apply $D$ filters our feature vectors will be $D$ dimensional.\n",
    "\n",
    "The following image shows a filter bank. In the filter bank we typically want filters to capture a combination of scales, orientations of different types of patterns. This particular filter bank is The Derivative-of-Gaussians or as known as Leung-Malik (LM) Filter Bank.\n",
    "\n",
    "<img src=\"./images/filter_bank.png\">\n"
   ]
  },
  {
   "metadata": {},
   "cell_type": "markdown",
   "source": "We import Leung-Malik filters as follows:"
  },
  {
   "metadata": {},
   "cell_type": "code",
   "outputs": [],
   "execution_count": null,
   "source": [
    "import LM_filters\n",
    "filter_bank = LM_filters.makeLMfilters()\n",
    "# NOTE: If this does not work, go to appendix for function code"
   ]
  },
  {
   "metadata": {},
   "cell_type": "markdown",
   "source": [
    "### Plotting all filters\n",
    "\n",
    "Plot the created filters as images similar to the figure above."
   ]
  },
  {
   "metadata": {},
   "cell_type": "code",
   "outputs": [],
   "execution_count": null,
   "source": [
    "n_filters = filter_bank.shape[-1]\n",
    "\n",
    "\n",
    "plt.figure(figsize=(10, 5))\n",
    "\n",
    "for k in range(n_filters):\n",
    "    plt.subplot(4, 12, k + 1)\n",
    "    plt.imshow(filter_bank[:, :, k], cmap='gray')\n",
    "    plt.axis(\"off\")\n",
    "\n",
    "plt.show()"
   ]
  },
  {
   "metadata": {},
   "cell_type": "markdown",
   "source": "## 1. Extracting a feature vector for an image"
  },
  {
   "metadata": {},
   "cell_type": "markdown",
   "source": "**1.1** Read the image ``/images/pizza.jpg``, and resize it to 240𝑥240 pixels. Then, convert the image to grayscale and visualize both, the RGB and the grayscale images."
  },
  {
   "metadata": {},
   "cell_type": "code",
   "outputs": [],
   "execution_count": null,
   "source": [
    "def plot_gray_rgb(image, shape = (240, 240)):\n",
    "\n",
    "    image_resize = resize(image, shape, anti_aliasing=True)\n",
    "    grayscale = rgb2gray(image_resize)\n",
    "\n",
    "    plt.subplot(1,2,1)\n",
    "    plt.imshow(image_resize)\n",
    "    plt.axis('off')\n",
    "\n",
    "    plt.subplot(1,2,2)\n",
    "    plt.imshow(grayscale, cmap='gray')\n",
    "    plt.axis('off')\n",
    "\n",
    "    plt.show()\n",
    "\n",
    "    return grayscale\n",
    "\n",
    "image = io.imread('images/pizza.jpg')\n",
    "\n",
    "pizza_gray = plot_gray_rgb(image)"
   ]
  },
  {
   "metadata": {},
   "cell_type": "markdown",
   "source": [
    "**1.2** Given $D=n\\_{filters}$ filters from the filter bank and a single image `image`, make a function `get_image_features(image, filter_bank, n_filters)` that returns a feature vector of shape `n_filters`. The returned vector must contain at position $k$ the **mean of the absolute value of the convolved image** by filter $k$.\n",
    "\n",
    "$$\n",
    "\\text{feat}(x) = \\left( \\text{mean}( |r_1|), \\dots,\\text{mean}(|r_D|) \\right)\n",
    "$$\n",
    "\n",
    "Try the function with the previous image and print the feature vector.\n",
    "\n",
    "**Hint**: The function should return a feature vector obtained by averaging each filter response on the image. Use a small number of filters to try your functions"
   ]
  },
  {
   "metadata": {},
   "cell_type": "code",
   "outputs": [],
   "execution_count": null,
   "source": [
    "from scipy import ndimage\n",
    "from scipy.ndimage import convolve\n",
    "\n",
    "def get_image_features(image, filter_bank, n_filters):\n",
    "    feature_vector = np.zeros(n_filters)\n",
    "\n",
    "    for filter_pos in range(n_filters):\n",
    "        mask_filter = filter_bank[:,:,filter_pos]\n",
    "        convolved_image = ndimage.convolve(image, mask_filter, mode='constant')\n",
    "        feature_vector[filter_pos] = np.mean(abs(convolved_image))\n",
    "\n",
    "    return feature_vector\n"
   ]
  },
  {
   "metadata": {},
   "cell_type": "code",
   "outputs": [],
   "execution_count": null,
   "source": [
    "## Try the function\n",
    "n_filters = 5\n",
    "im_features = get_image_features(pizza_gray, filter_bank, n_filters)\n",
    "im_features"
   ]
  },
  {
   "metadata": {},
   "cell_type": "markdown",
   "source": [
    "\n",
    "**1.3** (Optional) Try ``get_image_features()`` using a different number of filters and other images (for instance ``/images/dog.jpg`` or ``/images/flower.jpg``)\n"
   ]
  },
  {
   "metadata": {},
   "cell_type": "code",
   "outputs": [],
   "execution_count": null,
   "source": [
    "dog_image = io.imread('images/dog.jpg')\n",
    "dog_gray = plot_gray_rgb(dog_image, (240, 240))\n",
    "n_filters = 5\n",
    "im_features_dog = get_image_features(dog_gray, filter_bank, n_filters)\n",
    "print(im_features_dog)\n",
    "\n",
    "flower_image = io.imread('images/flower.jpg')\n",
    "flower_gray = plot_gray_rgb(flower_image, (240, 240))\n",
    "n_filters = 5\n",
    "im_features_flowers = get_image_features(flower_gray, filter_bank, n_filters)\n",
    "print(im_features_flowers)\n"
   ]
  },
  {
   "metadata": {},
   "cell_type": "markdown",
   "source": "### Visualizing features"
  },
  {
   "metadata": {},
   "cell_type": "markdown",
   "source": [
    "**1.4** Make a function `visualize_features(im,  filter_bank, n_filters=5)` that receives the `filter_bank`, an image `im` and an integer `n_filters`. \n",
    "\n",
    "The function  must make a plot of two rows containing in the first row, in position $k$, the image convolved by filter $k$. In the second row, in position $k$, the image of the k'th filter. The result for `n_filter=5` should look like \n",
    "\n",
    "\n",
    "<img src=\"./images/filters.png\" >\n",
    "\n",
    "**Hint**: Note that since at this moment we are focusing on the texture, we will not use the color of the images."
   ]
  },
  {
   "metadata": {},
   "cell_type": "code",
   "outputs": [],
   "execution_count": null,
   "source": [
    "def visualize_features(im, filter_bank, n_filters=5):\n",
    "    plt.figure(figsize=(15, n_filters * 2))\n",
    "\n",
    "    for idx in range(n_filters):\n",
    "        current_filter = filter_bank[:, :, idx]\n",
    "        filtered_img = ndimage.convolve(im, current_filter, mode='constant', cval=0.0)\n",
    "\n",
    "        # Display filtered image in the first row\n",
    "        plt.subplot(2, n_filters, idx + 1)\n",
    "        plt.imshow(np.abs(filtered_img), cmap='gray')\n",
    "        plt.axis('off')\n",
    "\n",
    "        # Display filter in the second row\n",
    "        plt.subplot(2, n_filters, n_filters + idx + 1)\n",
    "        plt.imshow(current_filter, cmap='gray')\n",
    "        plt.axis('off')\n",
    "\n",
    "    plt.show()\n"
   ]
  },
  {
   "metadata": {},
   "cell_type": "code",
   "outputs": [],
   "execution_count": null,
   "source": [
    "## Try the function\n",
    "visualize_features(pizza_gray, filter_bank)"
   ]
  },
  {
   "metadata": {},
   "cell_type": "markdown",
   "source": "**1.5** (Optional) Try ``visualize_features()`` using a different number of filters and using another image (for instance ``/images/dog.jpg`` or ``/images/flower.jpg``)"
  },
  {
   "metadata": {},
   "cell_type": "code",
   "outputs": [],
   "execution_count": null,
   "source": [
    "visualize_features(dog_gray, filter_bank)\n",
    "visualize_features(flower_gray, filter_bank)"
   ]
  },
  {
   "metadata": {},
   "cell_type": "markdown",
   "source": "## 2 Load & resize the dataset"
  },
  {
   "metadata": {},
   "cell_type": "markdown",
   "source": [
    "**2.1** Read all the images in the directories, resize them to 240x240 pixels and save the image in an array:\n",
    "\n",
    "<ul>\n",
    "    <li>./images/pizza/</li>\n",
    "    <li>./images/flowers/</li>\n",
    "    <li>./images/pets/</li>\n",
    "    <li>./images/birds/</li>\n",
    "    <li>./images/aircrafts/</li>\n",
    "    <li>./images/cars/</li>\n",
    "    <li>./images/skyscraper/</li>\n",
    "    <li>./images/forest/</li>\n",
    "</ul>\n",
    "\n",
    "**Hint:** You have to create an array for each directory, which containts all the images belonging to that path."
   ]
  },
  {
   "metadata": {},
   "cell_type": "code",
   "outputs": [],
   "execution_count": null,
   "source": [
    "def load_and_resize_images(folder_path, target_size=(240, 240)):\n",
    "    # Use a pattern to match all image files\n",
    "    image_pattern = f\"{folder_path}/*\"\n",
    "    images = skimage.io.imread_collection(image_pattern)  # Reads all matching images into a collection\n",
    "\n",
    "    resized_images = []\n",
    "    for image in images:\n",
    "        # Ensure all images have 3 channels (convert grayscale to RGB)\n",
    "        if len(image.shape) == 2:  # Grayscale image\n",
    "            image = skimage.color.gray2rgb(image)\n",
    "        resized_image = resize(image, target_size, anti_aliasing=True)\n",
    "        resized_images.append(resized_image)\n",
    "\n",
    "    return np.array(resized_images)\n",
    "\n",
    "# Example usage:\n",
    "collection_pizza = load_and_resize_images('./images/pizza/')\n",
    "collection_flowers = load_and_resize_images('./images/flowers/')\n",
    "collection_pets = load_and_resize_images('./images/pets/')\n",
    "collection_birds = load_and_resize_images('./images/birds/')\n",
    "collection_aircrafts = load_and_resize_images('./images/aircrafts/')\n",
    "collection_cars = load_and_resize_images('./images/cars/')\n",
    "collection_skyscraper = load_and_resize_images('./images/skyscraper/')\n",
    "collection_forest = load_and_resize_images('./images/forest/')"
   ]
  },
  {
   "metadata": {},
   "cell_type": "markdown",
   "source": "Visualize one image (the first) from each array. Use ``subplot`` to create a 3x1figure."
  },
  {
   "metadata": {},
   "cell_type": "code",
   "outputs": [],
   "execution_count": null,
   "source": [
    "def visualize_first_images(image_arrays, titles):\n",
    "    for images, title in zip(image_arrays, titles):\n",
    "        plt.figure()\n",
    "        plt.imshow(images[1])\n",
    "        plt.title(title)\n",
    "        plt.axis('off')\n",
    "    plt.show()\n",
    "\n",
    "# List of collections\n",
    "collections = [\n",
    "    collection_pizza,\n",
    "    collection_flowers,\n",
    "    collection_pets,\n",
    "    collection_birds,\n",
    "    collection_aircrafts,\n",
    "    collection_cars,\n",
    "    collection_skyscraper,\n",
    "    collection_forest\n",
    "]\n",
    "\n",
    "# List of corresponding titles\n",
    "titles = [\n",
    "    'Pizza Image',\n",
    "    'Flowers Image',\n",
    "    'Pets Image',\n",
    "    'Birds Image',\n",
    "    'Aircrafts Image',\n",
    "    'Cars Image',\n",
    "    'Skyscraper Image',\n",
    "    'Forest Image'\n",
    "]\n",
    "\n",
    "# Visualize the first image from each collection\n",
    "visualize_first_images(collections, titles)\n"
   ]
  },
  {
   "metadata": {},
   "cell_type": "markdown",
   "source": "How many images there are in **each** directory?"
  },
  {
   "metadata": {},
   "cell_type": "code",
   "outputs": [],
   "execution_count": null,
   "source": [
    "def count_images(image_arrays, titles):\n",
    "    for images, title in zip(image_arrays, titles):\n",
    "        print(f\"{title}: {len(images)} images\")\n",
    "    plt.show()\n",
    "\n",
    "count_images(collections, titles)"
   ]
  },
  {
   "metadata": {},
   "cell_type": "markdown",
   "source": [
    "### Constructing the matrix of the feature vectors for all images\n",
    "\n",
    "**2.2** Implement a function `get_dataset_features(all_images, filter_bank, n_filters=6)` that applies `get_image_features` to get a feature vector for each of the images in the union of the three datasets (fish and chips_images, pizza, paella). It must return a matrix containing at row $k$ feature vector for the input image $k$.\n",
    "\n",
    "Try the function with the whole data set:\n",
    "\n",
    "*all_images = pizza_images + flowers_images + pets_images + birds_images + aircrafts_images + cars_images + skyscraper_images + forest_images*"
   ]
  },
  {
   "metadata": {},
   "cell_type": "code",
   "outputs": [],
   "execution_count": null,
   "source": [
    "def get_dataset_features(all_images, filter_bank, n_filters=6):\n",
    "    num_images = len(all_images)\n",
    "    feature_matrix = np.zeros((num_images, n_filters))\n",
    "\n",
    "    for idx in range(num_images):\n",
    "        gray_image = rgb2gray(all_images[idx])\n",
    "        feature_matrix[idx] = get_image_features(gray_image, filter_bank, n_filters)\n",
    "\n",
    "    return feature_matrix\n"
   ]
  },
  {
   "metadata": {},
   "cell_type": "code",
   "outputs": [],
   "execution_count": null,
   "source": [
    "## Try the function\n",
    "all_images = np.concatenate(\n",
    "    [collection_pizza, collection_flowers, collection_pets, collection_birds, collection_cars, collection_aircrafts, collection_skyscraper, collection_forest]\n",
    ")\n",
    "feature_vectors=get_dataset_features(all_images,  filter_bank, n_filters)"
   ]
  },
  {
   "metadata": {},
   "cell_type": "markdown",
   "source": "Print the shape of `feature_vectors` as well as the features for image #3 (*i.e. all_images[2]*), image #33, and image #53, directly from the vector"
  },
  {
   "metadata": {},
   "cell_type": "code",
   "outputs": [],
   "execution_count": null,
   "source": [
    "# Print the shape of feature_vectors\n",
    "print(f\"Shape of feature_vectors: {feature_vectors.shape}\")\n",
    "\n",
    "# Print features for image #3 (all_images[2])\n",
    "print(f\"Features for image #3: {feature_vectors[2]}\")\n",
    "\n",
    "# Print features for image #33 (all_images[32])\n",
    "print(f\"Features for image #33: {feature_vectors[32]}\")\n",
    "\n",
    "# Print features for image #53 (all_images[52])\n",
    "print(f\"Features for image #53: {feature_vectors[52]}\")\n"
   ]
  },
  {
   "metadata": {},
   "cell_type": "markdown",
   "source": [
    "### Visualizing the features of an image\n",
    "\n",
    "**2.3** Define a function `visualize_features_imgs(im_index, feature_vector)` that given n different images, plots their features. Use different colors to distinguish the features of each image.\n",
    "Choose 3 images on your choice and visualize the results.\n",
    "\n",
    "<img src=\"./images/example_plot_features.jpg\" >\n"
   ]
  },
  {
   "metadata": {},
   "cell_type": "code",
   "outputs": [],
   "execution_count": null,
   "source": [
    "\n",
    "def visualize_features_imgs(im_index, feature_vector):\n",
    "    plt.figure(figsize=(12, 6))\n",
    "\n",
    "    for i, im_index in enumerate(im_index):\n",
    "        features = feature_vector[im_index]\n",
    "        plt.plot(range(1, len(features) + 1), features, label=f\"Image {im_index + 1}\", marker='o')\n",
    "\n",
    "    plt.title(\"Visualization of Features\")\n",
    "    plt.xlabel(\"Feature #\")\n",
    "    plt.ylabel(\"Feature Value\")\n",
    "    plt.legend()\n",
    "    plt.show()\n",
    "\n"
   ]
  },
  {
   "metadata": {},
   "cell_type": "code",
   "outputs": [],
   "execution_count": null,
   "source": [
    "## Try the function\n",
    "visualize_features_imgs( [2,32,52] , feature_vectors)"
   ]
  },
  {
   "metadata": {},
   "cell_type": "markdown",
   "source": [
    "\n",
    "# 3 Retrieving the most similar images\n",
    "\n",
    "### Similarity search\n",
    "\n",
    "Let us assume $f(x) \\in \\mathbb{R}^D$ represents a set of features for $x$. Given a query image $x$ and another image $x^m$ from the database, we can compute the distance between images as\n",
    "$$\n",
    "\\text{distance}\\left( f(x) , \\, f(x^m) \\right) = \\| \\text{feat}(x)  - \\text{feat}(x^m)  \\|_2 =  \\sqrt{ \\sum_{d=1}^\\text{D} \\left( f(x)_d - f(x^m)_d  \\right)^2 }\n",
    "$$\n",
    "\n",
    "then we can find the closest image $x^{m^*}$ from the database to $x$ as $m^* =  \\text{argmin}_{m} \\{ \\| \\text{feat}(x)  - \\text{feat}(x^m)  \\|_2 \\}$\n"
   ]
  },
  {
   "metadata": {},
   "cell_type": "markdown",
   "source": [
    "\n",
    "**3.1** Implement a function `retrieve_images(im_features, feature_vectors, k=5)` to retrieve and visualize the `k` most similar images (according to the l2 norm) to `im` and the corresponding distances.\n",
    "\n",
    "The input of this function need to be feature of the image of interest `im_features`, the whole data set features `feature_vectors`, and an integer value `k`, which defines the number of images.\n",
    "\n",
    "The function should return the ordered vector of distances and the index of the closests images."
   ]
  },
  {
   "metadata": {},
   "cell_type": "code",
   "outputs": [],
   "execution_count": null,
   "source": [
    "def retrieve_images(im_features, feature_vectors, k=5):\n",
    "    distances = np.linalg.norm(im_features - feature_vectors, axis=1)\n",
    "    closest_images = np.argsort(distances)[:k]\n",
    "\n",
    "    closest_distances = distances[closest_images]\n",
    "\n",
    "    return closest_distances, closest_images"
   ]
  },
  {
   "metadata": {},
   "cell_type": "markdown",
   "source": "Try your function using ``/images/pizza.jpg``."
  },
  {
   "metadata": {},
   "cell_type": "code",
   "outputs": [],
   "execution_count": null,
   "source": [
    "# Try your function\n",
    "distances, closest = retrieve_images(im_features, feature_vectors, k=5)\n",
    "print(closest, distances)"
   ]
  },
  {
   "metadata": {},
   "cell_type": "markdown",
   "source": [
    "**3.2** Write a function *show_closest_images(all_images, closest, distances)* to show the closest images and the corresponding distances. \n",
    "\n",
    "<img src=\"./images/indice.png\" >\n"
   ]
  },
  {
   "metadata": {},
   "cell_type": "code",
   "outputs": [],
   "execution_count": null,
   "source": [
    "def show_closest_images(all_images, closest, distances):\n",
    "    # Visualize the closest images\n",
    "    plt.figure(figsize=(15, 5))\n",
    "    for i, index in enumerate(closest):\n",
    "        plt.subplot(1, len(closest), i + 1)\n",
    "        plt.imshow(all_images[index])\n",
    "        plt.title(distances[i])\n",
    "        plt.axis(\"off\")\n",
    "    plt.show()\n",
    "\n",
    "show_closest_images(all_images, closest, distances)"
   ]
  },
  {
   "metadata": {},
   "cell_type": "markdown",
   "source": [
    "# 4 Compute the accuracy of the algorithm: given a query image. \n",
    "\n",
    "**4.1** Implement a function `accuracy(feature_vectors, class_labels, im_features, class_im,  k=5)`, which takes as input `feature_vectors`, the `class_labels` for the images (`0 = pizza`, `1 = flower`, `2 = pet`, `3 = bird`, `4 = car`, `5 = aircraft`, `6 = skycraper` and `7 = forest`), the number of images to retrieve `k`, a query image (i.e. the feature vector for the image of interest) and the class of the query image `class_im`. \n",
    "\n",
    "Returns as output the number of retrieved images that belong to class `class_im` divided by the total of images retrieved `k` (this is the accuracy).\n",
    "\n",
    "**Hint**: Be careful to exclude the query image from the retrieved images (i.e. those cases in which `distance=0.0`)"
   ]
  },
  {
   "metadata": {},
   "cell_type": "code",
   "outputs": [],
   "execution_count": null,
   "source": [
    "\n",
    "def accuracy(feature_vectors, class_labels, im_features, class_im, k=5):\n",
    "    # Compute distances between the query image and all other images\n",
    "    distances = np.linalg.norm(feature_vectors - im_features, axis=1)\n",
    "\n",
    "    # Exclude the query image itself by setting its distance to infinity (distance=0.0)\n",
    "    distances[distances == 0.0] = np.inf\n",
    "\n",
    "    # Get the indices of the k nearest neighbors\n",
    "    nearest_indices = np.argsort(distances)[:k]\n",
    "\n",
    "    # Retrieve the class labels of the k nearest neighbors\n",
    "    retrieved_labels = class_labels[nearest_indices]\n",
    "\n",
    "    # Count how many of the retrieved labels match the query class\n",
    "    correct_matches = np.sum(retrieved_labels == class_im)\n",
    "\n",
    "    # Compute accuracy\n",
    "    accuracy_score = correct_matches / k\n",
    "\n",
    "    return accuracy_score\n"
   ]
  },
  {
   "metadata": {},
   "cell_type": "code",
   "outputs": [],
   "execution_count": null,
   "source": [
    "\n",
    "class_labels = np.concatenate([\n",
    "    np.zeros(len(collection_pizza)),\n",
    "    np.ones(len(collection_flowers)),\n",
    "    2*np.ones(len(collection_pets)),\n",
    "    3*np.ones(len(collection_birds)),\n",
    "    4*np.ones(len(collection_cars)),\n",
    "    5*np.ones(len(collection_aircrafts)),\n",
    "    6*np.ones(len(collection_skyscraper)),\n",
    "    7*np.ones(len(collection_forest))\n",
    "])\n",
    "for i in [0,1,2,3,4,5,6,7]:\n",
    "    print(\"acc:\", accuracy(feature_vectors, class_labels, im_features, i , k=10))"
   ]
  },
  {
   "metadata": {},
   "cell_type": "markdown",
   "source": "Compute the accuracy with k=10 with the previous images. Does the accuracy match the images retrieved from the previous exercise?"
  },
  {
   "metadata": {},
   "cell_type": "markdown",
   "source": "With a value of k=10, the accuracy obtained is in agreement with the images recovered during the exercise, which reflects a significant improvement in the performance of the system for image retrieval."
  },
  {
   "metadata": {},
   "cell_type": "markdown",
   "source": [
    "### Feature normalization\n",
    "\n",
    "**4.3** As you can see in exercise 2.4, some features are higher than the rest and, therefore, they are \"more important\" during the image retrieving.\n",
    "\n",
    "Normalize each feature between **[0,1]** using the minimum and the maximum values obtained from `feature_vectors`. Note that we need to use these values to normalize `im_features`.\n",
    "\n",
    "* Plot the new features of an image, using `visualize_features_imgs()`. \n",
    "* Then, show the 5 closest images (use show_closest_images) from `im_features`\n",
    "* Compute the accuracy. \n",
    "\n",
    "**Is there any difference? Do we obtain the same images than previously?**\n",
    "- The retrieved images remain unchanged before and after feature normalization, as the same set of images is returned in both scenarios."
   ]
  },
  {
   "metadata": {},
   "cell_type": "code",
   "outputs": [],
   "execution_count": null,
   "source": [
    "def normalize(features, min_vals, max_vals):\n",
    "    return (features - min_vals) / (max_vals - min_vals)\n",
    "\n",
    "# Assuming feature_vectors, im_features are defined\n",
    "min_value = np.min(feature_vectors, axis=0)\n",
    "max_value = np.max(feature_vectors, axis=0)\n",
    "\n",
    "normalized_features = normalize(feature_vectors, min_value, max_value)\n",
    "\n",
    "normalized_im_features = normalize(im_features.reshape(1,-1), min_value, max_value)\n",
    "visualize_features_imgs([0], normalized_im_features)\n",
    "\n",
    "distances, closest = retrieve_images(normalized_im_features, normalized_features, k=5)\n",
    "show_closest_images(all_images, closest, distances)\n",
    "\n",
    "for i in [0,1,2,3,4,5,6,7]:\n",
    "    print(\"acc:\", accuracy(normalized_features, class_labels, normalized_im_features, i , k=10))"
   ]
  },
  {
   "metadata": {},
   "cell_type": "markdown",
   "source": [
    "# 5 Image retrieval based on texture and color. \n",
    "\n",
    "**5.1** Make a function ` lm_features_rgb(rgb_image, n_bins=12)`  that returns the features based on a color descriptor (using histograms, similar to what it was performed in the **Deliverable 3 - video segmentation**). \n",
    "\n",
    "**Hint:** Consider each bin from each channel as a feature, create a vector with all the features together. "
   ]
  },
  {
   "metadata": {},
   "cell_type": "code",
   "outputs": [],
   "execution_count": null,
   "source": [
    "from skimage.util import img_as_float\n",
    "\n",
    "\n",
    "def lm_features_rgb(rgb_image, n_bins=12):\n",
    "    # Convert the image to float if it's in uint8 format\n",
    "    img = img_as_float(rgb_image) if rgb_image.dtype == 'uint8' else rgb_image\n",
    "\n",
    "    # Prepare a list to accumulate histograms\n",
    "    histograms = []\n",
    "\n",
    "    # Loop through each channel in the RGB image\n",
    "    for color_channel in range(img.shape[2]):\n",
    "        # Compute the histogram for the current channel\n",
    "        channel_hist, _ = skimage.exposure.histogram(img[:, :, color_channel], nbins=n_bins)\n",
    "\n",
    "        # Append the histogram to the list\n",
    "        histograms.append(channel_hist)\n",
    "\n",
    "    # Flatten the list of histograms into a single array\n",
    "    feature_array = np.hstack(histograms)\n",
    "\n",
    "    return feature_array\n"
   ]
  },
  {
   "metadata": {},
   "cell_type": "code",
   "outputs": [],
   "execution_count": null,
   "source": [
    "# Try your function\n",
    "pizza_rgb = io.imread('images/pizza.jpg')\n",
    "lm_rgb_features = lm_features_rgb(pizza_rgb)\n",
    "print(len(lm_rgb_features))"
   ]
  },
  {
   "metadata": {},
   "cell_type": "markdown",
   "source": [
    "\n",
    "## Apply the function to all the images in the dataset\n",
    "\n",
    "**5.2** Using ` lm_features_rgb` build the features of all the datapoints in  `all_images` and save them in `lm_dataset_features`."
   ]
  },
  {
   "metadata": {},
   "cell_type": "code",
   "outputs": [],
   "execution_count": null,
   "source": [
    "%%time \n",
    "'''\n",
    "Solution\n",
    "'''\n",
    "\n",
    "def build_features_from_dataset(dataset):\n",
    "    # Extract features for each image in the dataset\n",
    "    features = [lm_features_rgb(image) for image in dataset]\n",
    "\n",
    "    # Combine all features into a single array\n",
    "    return np.array(features)\n",
    "\n",
    "# Apply the lm_features_rgb function to all images\n",
    "lm_dataset_features = build_features_from_dataset(all_images)\n",
    "\n",
    "# Print the shape of the resulting feature dataset\n",
    "print(\"Shape of lm_dataset_features:\", lm_dataset_features.shape)\n"
   ]
  },
  {
   "metadata": {},
   "cell_type": "markdown",
   "source": [
    "## Compute the accuracy of the method using `lm_features_rgb`\n",
    "\n",
    "**5.3** Compute the accuracy of the retrieved images using the features that contain color information. Show the 4 closest images to the query images in the `lm_rgb` space with the function built before.\n",
    "\n",
    "Is the accuracy higher? Please, comment the results.\n",
    "- Previously, with k=10, the accuracy was 0.0, but now it has increased to 0.1. With k=5, it went from 0.0 to 0.2. What is the reason for this improvement?\n",
    "LM RGB features highlight the color properties present in images, allowing for more effective identification of those belonging to the same class. This is because this approach emphasizes differences in colors, something that other feature extraction methods may not capture as clearly."
   ]
  },
  {
   "metadata": {},
   "cell_type": "code",
   "outputs": [],
   "execution_count": null,
   "source": [
    "image = io.imread('images/pizza.jpg')\n",
    "pizza_resized = resize(image, (240,240), anti_aliasing=True)\n",
    "\n",
    "im_feature_rgb = lm_features_rgb(pizza_resized, n_bins=12)\n",
    "\n",
    "closest_distances, closest_indices = retrieve_images(im_feature_rgb, lm_dataset_features, k=4)\n",
    "\n",
    "show_closest_images(all_images, closest_indices, closest_distances)\n",
    "\n",
    "# Print accuracy\n",
    "for i in [0,1,2,3,4,5,6,7]:\n",
    "    print(f\"Accuracy with k=10: {accuracy(lm_dataset_features, class_labels, im_feature_rgb, i, k=10)}\")"
   ]
  },
  {
   "metadata": {},
   "cell_type": "markdown",
   "source": [
    "==============================================================================================\n",
    "## Haar-like features applied for face detection\n",
    "=============================================================================================="
   ]
  },
  {
   "metadata": {},
   "cell_type": "markdown",
   "source": [
    "### What is a Haar-like feature?\n",
    "\n",
    "Haar-like feature descriptors were successfully used to implement the first real-time face detector. In this laboratory we will see an example illustrating the extraction, selection, and classification of Haar-like features to detect faces vs. non-faces.\n",
    "\n",
    "Documentation [Haar-like feature skimage](https://scikit-image.org/docs/0.14.x/auto_examples/xx_applications/plot_haar_extraction_selection_classification.html)"
   ]
  },
  {
   "metadata": {},
   "cell_type": "markdown",
   "source": [
    "Haar-like features are features extracted from the images to recognize objects. These features are normally used in face recognition. The key to face recognition is to detect the relevant features of humans such as eyes, lips, or nose. \n",
    "\n",
    "\n",
    "<img src=\"images/haar-like.PNG\" width=400, height=400>\n",
    "\n",
    "Try to guess where in the face image we expect to detect an edge, line or another facial feature and what would be the most appropriate Haar-feature for them? \n",
    "\n",
    "<img src=\"images/haar-like1.PNG\" width=500, height=500>\n",
    "\n",
    "\n",
    "A real application would be:\n",
    "\n",
    "<img src=\"images/face.PNG\" width=300, height=300>\n",
    "\n",
    "\n",
    "To describe the face, we can apply convolutions with Haar features."
   ]
  },
  {
   "metadata": {},
   "cell_type": "markdown",
   "source": [
    "### 6. Building integral image and Haar-like features\n",
    "\n",
    "Compute all the Haar-like features (we can define up to 16000 million masks), can be a slow process. To compute it faster, we are going to use the integral images (instead of convolutions). It is very useful because we are able to save all the sums and substrations of image rectangles to avoid computing all the features every time.\n",
    "\n",
    "When creating an Integral Image, we need to create a Summed Area Table. What does represent any point (x,y) in this table?\n",
    "\n",
    "<img src=\"images/integral_image.PNG\" width=250, height=250>\n",
    "\n",
    "An example :\n",
    "\n",
    "<img src=\"images/integral_image1.PNG\" width=400, height=400>\n",
    "\n",
    "To easy the computation of Haar features, the integral image must have an additional row and column full of zeros (first row and first column). Why?"
   ]
  },
  {
   "metadata": {},
   "cell_type": "markdown",
   "source": [
    "- When we create an Integral Image, the Summed Area Table represents at each point (x, y) the cumulative sum of the values ​​of all pixels from the top left corner of the image up to and including the point (x, y). This allows the sum of values ​​in any subrectangle of the image to be quickly calculated using only a few operations.\n",
    "The reason an extra row and column filled with zeros is needed is to simplify calculations. By having this extra row and column, we can avoid special cases when rectangles include image borders. This ensures that calculations are consistent and faster, since the coordinates always have defined values ​​to perform the necessary subtractions."
   ]
  },
  {
   "metadata": {},
   "cell_type": "markdown",
   "source": [
    "**6.1** Build a function `to_integral_image` that computes the integral image of an input (2D) array. The integral image must have an additional row and column full of zeros (first row and first column).\n",
    "Make sure that the values of the integral image are correct.\n",
    "\n",
    "Try your function using a `5x5` random grayscale image. Visualize both the original random image and the integral one. Refrain from using built-in functions that already do the integral, compute it yourself. "
   ]
  },
  {
   "metadata": {},
   "cell_type": "code",
   "outputs": [],
   "execution_count": null,
   "source": [
    "def to_integral_image(input_array):\n",
    "    rows, cols = input_array.shape\n",
    "    integral_image = np.zeros((rows + 1, cols + 1))\n",
    "\n",
    "    for i in range(1, rows + 1):\n",
    "        for j in range(1, cols + 1):\n",
    "            integral_image[i, j] = (\n",
    "                input_array[i - 1, j - 1]\n",
    "                + integral_image[i - 1, j]\n",
    "                + integral_image[i, j - 1]\n",
    "                - integral_image[i - 1, j - 1]\n",
    "            )\n",
    "\n",
    "    return integral_image"
   ]
  },
  {
   "metadata": {},
   "cell_type": "code",
   "outputs": [],
   "execution_count": null,
   "source": [
    "# Visualizing results on a random grayscale image\n",
    "random_img = np.random.rand(5,5)\n",
    "integral_img = to_integral_image(random_img)"
   ]
  },
  {
   "metadata": {},
   "cell_type": "markdown",
   "source": [
    "To make sure that the values of the integral image are correct, compute the following tests:\n",
    "\n",
    " - `img_array.sum() == ii_img_array[-1,-1]`\n",
    " - `img_array[0,:].sum() == ii_img_array[1,-1]`"
   ]
  },
  {
   "metadata": {},
   "cell_type": "code",
   "outputs": [],
   "execution_count": null,
   "source": [
    "# Pruebas de validación ajustadas\n",
    "test1 = np.isclose(random_img.sum(), integral_img[-1, -1])\n",
    "test2 = random_img[0, :].sum() == integral_img[1, -1]\n",
    "\n",
    "print(\"\\nValidation Tests:\")\n",
    "print(f\"Test 1 (Total sum matches): {test1}\")\n",
    "print(f\"Test 2 (First row sum matches): {test2}\")"
   ]
  },
  {
   "metadata": {},
   "cell_type": "markdown",
   "source": [
    "**6.2** Let's check in real images. Choose an image from the directory ``./faces``, visualize both the original and the integral image, and make the same test that in the previous question.\n",
    "\n",
    "Here is an example (you don't have to pick this image, you can do it at random):\n",
    "<img src=\"images/integral_image_example.jpg\" width=500, height=250>"
   ]
  },
  {
   "metadata": {
    "ExecuteTime": {
     "end_time": "2024-12-23T21:54:10.608739Z",
     "start_time": "2024-12-23T21:54:10.300834Z"
    }
   },
   "cell_type": "code",
   "source": [
    "\n",
    "from skimage import color\n",
    "\n",
    "face_collection = io.imread_collection(\"./images/faces/*\")\n",
    "\n",
    "face_image = face_collection[np.random.randint(len(face_collection))]\n",
    "\n",
    "if len(face_image.shape) == 3 and face_image.shape[2] == 3:\n",
    "    original_image = color.rgb2gray(face_image)\n",
    "else:\n",
    "    original_image = face_image  # La imagen ya está en escala de grises\n",
    "\n",
    "# Calcular la imagen integral\n",
    "integral_image = to_integral_image(original_image)\n",
    "\n",
    "# Visualizar la imagen original y la imagen integral\n",
    "plt.figure(figsize=(10, 5))\n",
    "\n",
    "# Imagen original\n",
    "plt.subplot(1, 2, 1)\n",
    "plt.imshow(original_image, cmap='gray')\n",
    "plt.title(\"Original Image\")\n",
    "plt.colorbar()\n",
    "\n",
    "# Imagen integral\n",
    "plt.subplot(1, 2, 2)\n",
    "plt.imshow(integral_image, cmap='gray')\n",
    "plt.title(\"Integral Image\")\n",
    "plt.colorbar()\n",
    "\n",
    "plt.show()\n",
    "\n",
    "# Pruebas de validación\n",
    "test1 = np.isclose(original_image.sum(), integral_image[-1, -1])\n",
    "test2 = np.isclose(original_image[0, :].sum(), integral_image[1, -1])\n",
    "\n",
    "print(\"\\nValidation Tests:\")\n",
    "print(f\"Test 1 (Total sum matches): {test1}\")\n",
    "print(f\"Test 2 (First row sum matches): {test2}\")"
   ],
   "outputs": [
    {
     "data": {
      "text/plain": [
       "<Figure size 1000x500 with 4 Axes>"
      ],
      "image/png": "[encoded data removed]"
     },
     "metadata": {},
     "output_type": "display_data"
    },
    {
     "name": "stdout",
     "output_type": "stream",
     "text": [
      "\n",
      "Validation Tests:\n",
      "Test 1 (Total sum matches): True\n",
      "Test 2 (First row sum matches): True\n"
     ]
    }
   ],
   "execution_count": 292
  },
  {
   "metadata": {},
   "cell_type": "markdown",
   "source": "**6.3:** Alternatively to your own function, you can use the ``integral_image()`` function from ``skimage.transform``. Compare (numerically) the result obtained using your funtion and that obtained using the function provided by skimage (no need to provide a written answer here, just make sure you are obtain same results)."
  },
  {
   "metadata": {},
   "cell_type": "code",
   "outputs": [],
   "execution_count": null,
   "source": [
    "# Calcular la imagen integral usando ambas funciones\n",
    "integral_image_custom = to_integral_image(original_image)\n",
    "integral_image_skimage = skimage.transform.integral_image(original_image)\n",
    "\n",
    "# Comparar resultados numéricamente\n",
    "comparison = np.allclose(integral_image_custom[1:, 1:], integral_image_skimage)\n",
    "\n",
    "# Visualizar resultados\n",
    "plt.figure(figsize=(15, 5))\n",
    "\n",
    "# Imagen integral personalizada\n",
    "plt.subplot(1, 3, 1)\n",
    "plt.imshow(integral_image_custom, cmap='gray')\n",
    "plt.title(\"Custom Integral Image\")\n",
    "plt.colorbar()\n",
    "\n",
    "# Imagen integral de skimage\n",
    "plt.subplot(1, 3, 2)\n",
    "plt.imshow(integral_image_skimage, cmap='gray')\n",
    "plt.title(\"Skimage Integral Image\")\n",
    "plt.colorbar()\n",
    "\n",
    "# Diferencia entre las imágenes integrales\n",
    "plt.subplot(1, 3, 3)\n",
    "plt.imshow(integral_image_custom[1:, 1:] - integral_image_skimage, cmap='coolwarm')\n",
    "plt.title(\"Difference\")\n",
    "plt.colorbar()\n",
    "\n",
    "plt.show()\n",
    "\n",
    "# Imprimir resultado de la comparación\n",
    "print(\"\\nNumerical Comparison:\")\n",
    "print(f\"Are the results identical? {comparison}\")"
   ]
  },
  {
   "metadata": {},
   "cell_type": "markdown",
   "source": [
    "## Haar-like features\n",
    "\n",
    "Let's use the [haar_like_feature()](https://scikit-image.org/docs/0.14.x/api/skimage.feature.html#skimage.feature.haar_like_feature) function from skimage. Check the parameters and the returned value of the ``function haar_like_feature()`` before continuing and **NOTE** that we must use the integral image (**not the real image**) in this function.\n",
    "\n",
    "*skimage.feature.haar_like_feature(int_image, rint, cint, widthint, heightint, feature_type=None, feature_coord=None)*\n",
    "\n"
   ]
  },
  {
   "metadata": {},
   "cell_type": "markdown",
   "source": [
    "###  Extract features\n",
    "\n",
    "**6.4** Define a function ``extract_feature_image(image, feature_type, feature_coord=None)`` to obtain the Haar-like features, using a given type of features ``feature_types``, from an image. The aim of this function is as simple as to join both `to_integral_image()` and `haar_like_feature()`functions.\n",
    "\n",
    "Try your function using the choosing image from *1.4*. You should obtain a feature vector. Print the vector shape.\n",
    "\n",
    "**Note:** You can give an array with a set of feature types to the `haar_like_feature()` function and it will compute all the corresponding features. We **do not** need to give each time only one feature.\n"
   ]
  },
  {
   "metadata": {},
   "cell_type": "code",
   "outputs": [],
   "execution_count": null,
   "source": [
    "feature_types = ['type-2-x', 'type-2-y',\n",
    "                 'type-3-x', 'type-3-y',\n",
    "                 'type-4']"
   ]
  },
  {
   "metadata": {
    "ExecuteTime": {
     "end_time": "2024-12-23T21:43:36.440329Z",
     "start_time": "2024-12-23T21:43:27.338390Z"
    }
   },
   "cell_type": "code",
   "source": [
    "from skimage.feature import haar_like_feature\n",
    "from skimage.transform import integral_image\n",
    "\n",
    "def extract_feature_image(image, feature_types, feature_coord=None):\n",
    "\n",
    "    # Convert image to integral image\n",
    "    integral_img = integral_image(image)\n",
    "\n",
    "    # Dimensions of the full image\n",
    "    r, c = 0, 0\n",
    "    width, height = image.shape[1], image.shape[0]\n",
    "\n",
    "    # Compute Haar-like features\n",
    "    feature_vector = haar_like_feature(\n",
    "        integral_img, r=r, c=c, width=width, height=height,\n",
    "        feature_type=feature_types, feature_coord=feature_coord\n",
    "    )\n",
    "\n",
    "    return feature_vector\n",
    "\n",
    "\n",
    "feature_vectors = []\n",
    "for image in face_collection:\n",
    "    # Convertir a escala de grises si es necesario\n",
    "    if len(image.shape) == 3 and image.shape[2] == 3:\n",
    "        image = rgb2gray(image)\n",
    "\n",
    "    # Extraer características y añadirlas a la lista\n",
    "    features = extract_feature_image(image, feature_types)\n",
    "    feature_vectors.append(features)\n",
    "\n",
    "# Convertir la lista a un array bidimensional\n",
    "feature_vectors = np.array(feature_vectors)\n",
    "\n",
    "# Imprimir la forma del array final\n",
    "print(\"Feature vectors shape:\", feature_vectors.shape)\n"
   ],
   "outputs": [
    {
     "name": "stdout",
     "output_type": "stream",
     "text": [
      "39\n",
      "Feature vectors shape: (39, 63960)\n"
     ]
    }
   ],
   "execution_count": 286
  },
  {
   "metadata": {},
   "cell_type": "markdown",
   "source": [
    "**6.5** Plot a Haar-like feature on an image:\n",
    "\n",
    "To visualize Haar-like features on an image, we need the fuctions, provided by skimage, ``haar_like_feature_coord()``, which computes the coordinates of Haar-like features, and ``draw_haar_like_feature()``, used to visualize that features.\n",
    "\n",
    "Before continuing, please, **check the online documentation of the two functions**\n",
    "\n",
    "- [*haar_like_feature_coord(width, height, feature_type=None)*](https://scikit-image.org/docs/stable/api/skimage.feature.html#skimage.feature.haar_like_feature_coord)\n",
    "\n",
    "- [*draw_haar_like_feature(image, r, c, width, height, feature_coord, color_positive_block=(1.0, 0.0, 0.0), color_negative_block=(0.0, 1.0, 0.0), alpha=0.5, max_n_features=None, random_state=None)*](https://scikit-image.org/docs/stable/api/skimage.feature.html#skimage.feature.draw_haar_like_feature)\n",
    "\n",
    "Define a function ``plotFeatures``  to visualize Haar-like features on an images, given a array of feature types ``feature_types``. The aim of this exercise is, similarly to the previous one, to merge both `haar_like_feature_coord()` and `draw_haar_like_feature()` functions. Try your own function using the choosing image from *1.4* as follows:\n",
    "\n",
    "<img src=\"images/image1.png\" width=600, height=400>\n",
    "\n",
    "*Note that there are multiple features and therefore your results might not exactly match this example, depending on your selection.*"
   ]
  },
  {
   "metadata": {
    "ExecuteTime": {
     "end_time": "2024-12-23T21:54:16.020503Z",
     "start_time": "2024-12-23T21:54:15.353478Z"
    }
   },
   "cell_type": "code",
   "source": [
    "from skimage.feature import haar_like_feature_coord, draw_haar_like_feature\n",
    "import matplotlib.pyplot as plt\n",
    "\n",
    "def plotFeatures(image, feature_types):\n",
    "    n_cols = 2\n",
    "    n_rows = (len(feature_types) + n_cols - 1) // n_cols  # Calculate rows dynamically\n",
    "\n",
    "    plt.figure(figsize=(10, 5 * n_rows))\n",
    "\n",
    "    for idx, feat_t in enumerate(feature_types):\n",
    "        plt.subplot(n_rows, n_cols, idx + 1)\n",
    "\n",
    "        # Get Haar-like feature coordinates for the current type\n",
    "        coord, _ = haar_like_feature_coord(image.shape[0], image.shape[1], feat_t)\n",
    "\n",
    "        # Draw Haar-like features\n",
    "        haar_feature = draw_haar_like_feature(\n",
    "            image, 0, 0, image.shape[1], image.shape[0], coord,\n",
    "            max_n_features=1\n",
    "        )\n",
    "\n",
    "        # Plot the features\n",
    "        plt.imshow(haar_feature, cmap='gray')\n",
    "        plt.axis('off')\n",
    "        plt.title(feat_t)\n",
    "        plt.xticks([])\n",
    "        plt.yticks([])\n",
    "\n",
    "    plt.tight_layout()\n",
    "    plt.show()\n",
    "\n",
    "plotFeatures(face_image, feature_types)\n",
    "\n"
   ],
   "outputs": [
    {
     "data": {
      "text/plain": [
       "<Figure size 1000x1500 with 5 Axes>"
      ],
      "image/png": "[encoded data removed]"
     },
     "metadata": {},
     "output_type": "display_data"
    }
   ],
   "execution_count": 293
  },
  {
   "metadata": {},
   "cell_type": "markdown",
   "source": [
    "## 7 Face detection using an Adaboost\n",
    "\n",
    "**7.1** Read all the images from the directories ``./faces`` and ``./nonfaces`` and build an array with the all the features (use the `built extract_feature_image` for this). \n",
    "\n",
    "Futhermore, build the class labels vector ``y`` with the label of all the images. Make sure both, images and labels are numpy array objects."
   ]
  },
  {
   "metadata": {
    "ExecuteTime": {
     "end_time": "2024-12-23T22:10:43.868212Z",
     "start_time": "2024-12-23T22:10:32.792846Z"
    }
   },
   "cell_type": "code",
   "source": [
    "def load_images(folder_path):\n",
    "    # Use a pattern to match all image files\n",
    "    image_pattern = f\"{folder_path}/*\"\n",
    "    images = skimage.io.imread_collection(image_pattern)  # Reads all matching images into a collection\n",
    "\n",
    "    resized_images = []\n",
    "    for image in images:\n",
    "        # Ensure all images have 3 channels (convert grayscale to RGB)\n",
    "        if len(image.shape) == 2:  # Grayscale image\n",
    "            image = skimage.color.gray2rgb(image)\n",
    "\n",
    "        resized_images.append(image)\n",
    "\n",
    "    return np.array(resized_images)\n",
    "\n",
    "nonfaces_collection = load_images(\"./images/nonfaces\")\n",
    "faces_collection = load_images(\"./images/faces\")\n",
    "feature_nonfaces = []\n",
    "for image in face_collection:\n",
    "    # Convertir a escala de grises si es necesario\n",
    "    if len(image.shape) == 3 and image.shape[2] == 3:\n",
    "        image = rgb2gray(image)\n",
    "\n",
    "    # Extraer características y añadirlas a la lista\n",
    "    features = extract_feature_image(image, feature_types)\n",
    "    feature_nonfaces.append(features)\n",
    "\n",
    "feature_faces = []\n",
    "for image in face_collection:\n",
    "    # Convertir a escala de grises si es necesario\n",
    "    if len(image.shape) == 3 and image.shape[2] == 3:\n",
    "        image = rgb2gray(image)\n",
    "\n",
    "    # Extraer características y añadirlas a la lista\n",
    "    features = extract_feature_image(image, feature_types)\n",
    "    feature_faces.append(features)\n",
    "\n",
    "feature_faces = np.array(feature_faces)\n",
    "feature_nonfaces = np.array(feature_nonfaces)\n",
    "\n",
    "labels_faces = np.ones(len(feature_faces))\n",
    "labels_nonfaces = np.zeros(len(feature_nonfaces))\n",
    "\n",
    "features = np.concatenate((feature_faces, feature_nonfaces), axis=0)\n",
    "labels = np.concatenate((labels_faces, labels_nonfaces), axis=0)"
   ],
   "outputs": [],
   "execution_count": 302
  },
  {
   "metadata": {},
   "cell_type": "markdown",
   "source": [
    "**7.2** Using the ``train_test_split()`` function from `sklearn.model_selection`, divide the dataset into *train* and *test* sets. The test size must be the 30% (i.e. 0.3) of the whole dataset.\n",
    "\n",
    "[*sklearn.model_selection.train_test_split(*arrays, test_size=None, train_size=None, random_state=None, shuffle=True, stratify=None)*](https://scikit-learn.org/stable/modules/generated/sklearn.model_selection.train_test_split.html)\n",
    "\n",
    "Print the size of your images train and test set. "
   ]
  },
  {
   "metadata": {
    "ExecuteTime": {
     "end_time": "2024-12-23T22:23:13.659423Z",
     "start_time": "2024-12-23T22:23:13.640438Z"
    }
   },
   "cell_type": "code",
   "source": [
    "from sklearn.model_selection import train_test_split\n",
    "\n",
    "# Dividir el conjunto de datos en entrenamiento y prueba\n",
    "X_train, X_test, y_train, y_test = train_test_split(\n",
    "    X, y, test_size=0.3, random_state=42, stratify=y\n",
    ")\n",
    "\n",
    "# Verificar las dimensiones de los conjuntos\n",
    "print(\"Training feature array shape:\", X_train.shape)\n",
    "print(\"Test feature array shape:\", X_test.shape)\n",
    "print(\"Training labels shape:\", y_train.shape)\n",
    "print(\"Test labels shape:\", y_test.shape)\n"
   ],
   "outputs": [
    {
     "name": "stdout",
     "output_type": "stream",
     "text": [
      "Training feature array shape: (54, 63960)\n",
      "Test feature array shape: (24, 63960)\n",
      "Training labels shape: (54,)\n",
      "Test labels shape: (24,)\n"
     ]
    }
   ],
   "execution_count": 313
  },
  {
   "metadata": {},
   "cell_type": "markdown",
   "source": [
    "**7.3** Train an Adaboost classifier using `AdaBoostClassifier()`from `sklearn.ensemble`.\n",
    "\n",
    "[*sklearn.ensemble.AdaBoostClassifier(n_estimators=50, learning_rate=1.0)*](https://scikit-learn.org/stable/modules/generated/sklearn.ensemble.AdaBoostClassifier.html)\n",
    "\n",
    "What is an Adaboost? How it works?"
   ]
  },
  {
   "metadata": {
    "ExecuteTime": {
     "end_time": "2024-12-23T22:28:45.913561Z",
     "start_time": "2024-12-23T22:28:30.998962Z"
    }
   },
   "cell_type": "code",
   "source": [
    "from sklearn.ensemble import AdaBoostClassifier\n",
    "\n",
    "# Create an AdaBoost classifier instance with 50 weak learners\n",
    "ada_clf = AdaBoostClassifier(n_estimators=50, learning_rate=1.0)\n",
    "\n",
    "# Train the AdaBoost classifier\n",
    "ada_clf.fit(X_train, y_train)\n",
    "\n",
    "# You can now evaluate the classifier on the test data, for example:\n",
    "accuracy = ada_clf.score(X_test, y_test)\n",
    "print(f\"Accuracy: {accuracy}\")"
   ],
   "outputs": [
    {
     "name": "stdout",
     "output_type": "stream",
     "text": [
      "Accuracy: 0.08333333333333333\n"
     ]
    }
   ],
   "execution_count": 318
  },
  {
   "metadata": {},
   "cell_type": "markdown",
   "source": "**7.4** Evaluate the accuracy of the Adaboost classifier using the *predict* and *score* methods of the classifier. Make sure to use your test set for this. What are these methods doing?"
  },
  {
   "metadata": {},
   "cell_type": "code",
   "outputs": [],
   "execution_count": null,
   "source": "# Your solution here"
  },
  {
   "metadata": {},
   "cell_type": "markdown",
   "source": [
    "Change the parameter ``n_estimators`` and see what happens to the test set accuracy. Does the performance increased or decreased?\n",
    "\n",
    "Try at least 3 different values of `n_estimators`"
   ]
  },
  {
   "metadata": {},
   "cell_type": "code",
   "outputs": [],
   "execution_count": null,
   "source": "# Your solution here"
  },
  {
   "metadata": {},
   "cell_type": "markdown",
   "source": "**7.5 (Optional)** The method ``feature_importances_`` of the Adaboost is giving the importance of the features. Implement a function to visualize the 10 most important features of the model. "
  },
  {
   "metadata": {},
   "cell_type": "code",
   "outputs": [],
   "execution_count": null,
   "source": "# Your solution here"
  },
  {
   "metadata": {},
   "cell_type": "markdown",
   "source": [
    "==============================================================================================\n",
    "## Principal Component Analysis (PCA) applied for face recognition\n",
    "==============================================================================================\n",
    "\n",
    "### Dimensionality and redundancy\n",
    "\n",
    "Imagine we have a dataset with 100x100 pixel images, it means we have 10000 dimensions. We want to construct a low-dimensional linear subspace that best explains the variation in the set of face images (**Eigenfaces space**)\n",
    "\n",
    "<img src=\"images/subspace.PNG\" width=200, height=200>\n",
    "\n",
    "Each image has m rows and n columns and defines a vector of (mxn) elements. We need to choose the most valuable pixels in order to avoid compute all dimensions. \n",
    "\n",
    "<img src=\"images/feature_vector.PNG\" width=800, height=300>\n",
    "\n",
    "We look for a transformation of the original space to a smaller (M << (mxn)) where faces are represented with their coordinates in this new space R.\n",
    "\n",
    "To reduce the dimensionality retaining the information necessary to classify and recognize, we are going to use the **Eigenfaces method** \n",
    "\n",
    "### How to build a reduced space?\n",
    "\n",
    "To build this new space, we are going to use the **Principal Component Analysis**. Given a large space, the PCA looks for the minimum number of axes that best represents the variation of the data.\n",
    "\n",
    "<img src=\"images/pca.PNG\" width=400, height=400>\n",
    "\n",
    "The eigenvectors of the covariance matrix define the axis of maximum variance and the eigenvalues give a measure of the variance of the data. \n",
    "\n",
    "1. Construct the vector in the (m x n)-dimensional space R given M images of size (m x n).\n",
    "\n",
    "2. Compute the mean image \n",
    "\n",
    "<center>\n",
    "$\\overline{X}=\\frac{1}{M}\\sum_{i=1}^{M} X_i$\n",
    "</center>\n",
    "\n",
    "3. Construct the covariance matrix. Due to $A \\times A^T$ is too large, instead of using $A \\times A^T$ to compute its eigenvectors, we are going to compute the eigenvectors of $A^T \\times A$.\n",
    "\n",
    "<img src=\"images/covariance_image.PNG\" width=500, height=200>\n",
    "\n",
    "4. Extract the eigenvectors (the base of the new space) and their eigenvalues and project faces in the new space to apply the classifier (knn)\n"
   ]
  },
  {
   "metadata": {},
   "cell_type": "markdown",
   "source": [
    "## 8. Load and prepare data for PCA\n",
    "\n",
    "Let's use the [Labeled Faces in the Wild (LFW)](https://scikit-learn.org/stable/modules/generated/sklearn.datasets.fetch_lfw_people.html) people dataset (classification).\n",
    "\n",
    "Face dataset features:\n",
    "\n",
    "- Classes: 5749\n",
    "\n",
    "- Samples total: 13233\n",
    "\n",
    "- Dimensionality: 5828\n",
    "\n",
    "- Features: real, between 0 and 255\n",
    "\n",
    "\n",
    "*sklearn.datasets.fetch_lfw_people(data_home=None, funneled=True, resize=0.5, min_faces_per_person=0, color=False, slice_=(slice(70, 195, None), slice(78, 172, None)), download_if_missing=True, return_X_y=False)*\n",
    "\n",
    "\n",
    "\n",
    "*Please, check the parameters and returned value by ``lethc_lfw_people()`` before continuing.*"
   ]
  },
  {
   "metadata": {},
   "cell_type": "markdown",
   "source": [
    "**8.1** Load the dataset, obtaining only those cases where there are, **at least, 100 images**. Check the final number of images, image shapes and labels of the images.\n",
    "\n",
    "*Hint: There is a parameter to set the minimum number of faces per person to load in the dataset function*"
   ]
  },
  {
   "metadata": {},
   "cell_type": "code",
   "outputs": [],
   "execution_count": null,
   "source": "# Your solution here"
  },
  {
   "metadata": {},
   "cell_type": "markdown",
   "source": [
    "**8.2** Plot an image frome each example, with its name as the title of the image.\n",
    "\n",
    "<img src=\"images/example.png\" width=500, height=200>"
   ]
  },
  {
   "metadata": {},
   "cell_type": "code",
   "outputs": [],
   "execution_count": null,
   "source": "# Your solution here"
  },
  {
   "metadata": {},
   "cell_type": "markdown",
   "source": [
    "**8.3** Divide the dataset into train and test set (0.7/0.3). Print the size of train and test image sets.\n",
    "\n",
    "Hint: use the train_test_split function."
   ]
  },
  {
   "metadata": {},
   "cell_type": "code",
   "outputs": [],
   "execution_count": null,
   "source": "# Your solution here"
  },
  {
   "metadata": {},
   "cell_type": "markdown",
   "source": [
    "## Compute PCA\n",
    "\n",
    "[*class sklearn.decomposition.PCA(n_components=None, copy=True, whiten=False, svd_solver='auto', tol=0.0, iterated_power='auto', random_state=None)*](https://scikit-learn.org/stable/modules/generated/sklearn.decomposition.PCA.html?highlight=pca#sklearn.decomposition.PCA)\n",
    "\n",
    "The principal components measure deviations about this mean along orthogonal axes.\n",
    "\n",
    "**8.4** Create a PCA object, using the training set and 150 components. \n",
    "\n",
    "*Consider that PCA requires the data to be reshaped into 2 dimensions: number of observations x number of pixels*"
   ]
  },
  {
   "metadata": {},
   "cell_type": "code",
   "outputs": [],
   "execution_count": null,
   "source": "# Your solution here"
  },
  {
   "metadata": {},
   "cell_type": "markdown",
   "source": [
    "Plot the accumated variance of the components. \n",
    "\n",
    "**Hint:** Use `explained_variance_ratio_` to return the variance explained, plot this.\n",
    "\n",
    "<img src=\"images/explained_variance_example.jpg\" width=400, height=400>"
   ]
  },
  {
   "metadata": {},
   "cell_type": "code",
   "outputs": [],
   "execution_count": null,
   "source": "# Your solution here"
  },
  {
   "metadata": {},
   "cell_type": "markdown",
   "source": [
    "**8.5** One interesting part of PCA is that it computes the average face, which can be interesting to examine. \n",
    "\n",
    "Plot the average face, using the method `mean_` of the PCA object.\n",
    "\n",
    "**Hint:** The average face need to be reshaped in order to visualize it properly\n",
    "\n",
    "\n",
    "<img src=\"images/mean_face.jpg\" width=200, height=200>\n"
   ]
  },
  {
   "metadata": {},
   "cell_type": "code",
   "outputs": [],
   "execution_count": null,
   "source": "# Your solution here"
  },
  {
   "metadata": {},
   "cell_type": "markdown",
   "source": [
    "**8.6** Furhtermore, we can check all the principal components (i.e. eigenfaces) considering the corresponding importance. Visualize 30 principal eigenfaces.\n",
    "\n",
    "<img src=\"images/eigenfaces.png\" width=500, height=500>\n",
    "\n",
    "Note that the base components are ordered by their importance. We see that the first few components seem to primarily take care of lighting conditions; the remaining components pull out certain identifying features: the nose, eyes, eyebrows, etc..."
   ]
  },
  {
   "metadata": {},
   "cell_type": "code",
   "outputs": [],
   "execution_count": null,
   "source": "# Your solution here"
  },
  {
   "metadata": {},
   "cell_type": "markdown",
   "source": [
    "**8.7** Project both the training and test set onto the PCA basis, using the method `transform()` of the PCA object.\n",
    "\n",
    "These projected components correspond to factors in a linear combination of component images such that the combination approaches the original face. \n",
    "\n",
    "Choose one of the images and recompose from its first 10 most important corresponding eigenfaces. **Note that** we need to use the average face as the basis to agregate the rest of the components.\n",
    "\n",
    "\n",
    "<img src=\"images/eigenfaces_image.PNG\" width=300, height=300>\n",
    "\n",
    "Example of output: \n",
    "\n",
    "<img src=\"images/recomposition_example.jpg\" width=600, height=600>"
   ]
  },
  {
   "metadata": {},
   "cell_type": "code",
   "outputs": [],
   "execution_count": null,
   "source": "# Your solution here"
  },
  {
   "metadata": {},
   "cell_type": "code",
   "outputs": [],
   "execution_count": null,
   "source": "# Your solution here"
  },
  {
   "metadata": {},
   "cell_type": "markdown",
   "source": [
    "## Train a classifier\n",
    "\n",
    "**8.8** Train an Adaboost classifier using the PCA features. Show the results obtained with the test set.\n",
    "Use the `score` method of the Adaboost model."
   ]
  },
  {
   "metadata": {},
   "cell_type": "code",
   "outputs": [],
   "execution_count": null,
   "source": "# Your solution here"
  },
  {
   "metadata": {},
   "cell_type": "markdown",
   "source": [
    "**8.9** We can quantify this effectiveness using one of several measures from sklearn.metrics. First we can do the classification report, which shows the precision, recall and other measures of the “goodness” of the classification.\n",
    "\n",
    "*sklearn.metrics.classification_report(y_true, y_pred, labels=None, target_names=None, sample_weight=None, digits=2, output_dict=False, zero_division='warn')*\n",
    "\n",
    "*Please, check the parameters and returned value by ``classification_report()`` before continuing.*\n",
    "\n",
    "Print the classification report obtained during the training of the Adaboost model."
   ]
  },
  {
   "metadata": {},
   "cell_type": "code",
   "outputs": [],
   "execution_count": null,
   "source": "# Your solution here"
  },
  {
   "metadata": {},
   "cell_type": "markdown",
   "source": [
    "## Recognize a new face example using the learned model\n",
    "\n",
    "**8.10** Try your model using the test set. \n",
    "\n",
    "Predict the labels using the Adaboost model, with and without PCA, and plot the images with the corresponding label as title.\n",
    "\n",
    "<img src=\"images/prediction.png\" width=300 height = 300>"
   ]
  },
  {
   "metadata": {},
   "cell_type": "code",
   "outputs": [],
   "execution_count": null,
   "source": "# Your solution here"
  },
  {
   "metadata": {},
   "cell_type": "markdown",
   "source": [
    "# Appendix\n",
    "\n",
    "In case the library for exercise 1 does not work for you, here is the function that will create the filters for you:"
   ]
  },
  {
   "metadata": {},
   "cell_type": "code",
   "outputs": [],
   "execution_count": null,
   "source": [
    "\"\"\"\n",
    "Functions needed to create the Leung-Malik (LM) filter bank\n",
    "\"\"\"\n",
    "import numpy as np\n",
    "import cv2\n",
    "import matplotlib.pyplot as plt\n",
    "\n",
    "def gaussian1d(sigma, mean, x, ord):\n",
    "    x = np.array(x)\n",
    "    x_ = x - mean\n",
    "    var = sigma**2\n",
    "\n",
    "    # Gaussian Function\n",
    "    g1 = (1/np.sqrt(2*np.pi*var))*(np.exp((-1*x_*x_)/(2*var)))\n",
    "\n",
    "    if ord == 0:\n",
    "        g = g1\n",
    "        return g\n",
    "    elif ord == 1:\n",
    "        g = -g1*((x_)/(var))\n",
    "        return g\n",
    "    else:\n",
    "        g = g1*(((x_*x_) - var)/(var**2))\n",
    "        return g\n",
    "\n",
    "def gaussian2d(sup, scales):\n",
    "    var = scales * scales\n",
    "    shape = (sup,sup)\n",
    "    n,m = [(i - 1)/2 for i in shape]\n",
    "    x,y = np.ogrid[-m:m+1,-n:n+1]\n",
    "    g = (1/np.sqrt(2*np.pi*var))*np.exp( -(x*x + y*y) / (2*var) )\n",
    "    return g\n",
    "\n",
    "def log2d(sup, scales):\n",
    "    var = scales * scales\n",
    "    shape = (sup,sup)\n",
    "    n,m = [(i - 1)/2 for i in shape]\n",
    "    x,y = np.ogrid[-m:m+1,-n:n+1]\n",
    "    g = (1/np.sqrt(2*np.pi*var))*np.exp( -(x*x + y*y) / (2*var) )\n",
    "    h = g*((x*x + y*y) - var)/(var**2)\n",
    "    return h\n",
    "\n",
    "def makefilter(scale, phasex, phasey, pts, sup):\n",
    "\n",
    "    gx = gaussian1d(3*scale, 0, pts[0,...], phasex)\n",
    "    gy = gaussian1d(scale,   0, pts[1,...], phasey)\n",
    "\n",
    "    image = gx*gy\n",
    "\n",
    "    image = np.reshape(image,(sup,sup))\n",
    "    return image\n",
    "\n",
    "def makeLMfilters():\n",
    "    sup     = 49\n",
    "    scalex  = np.sqrt(2) * np.array([1,2,3])\n",
    "    norient = 6\n",
    "    nrotinv = 12\n",
    "\n",
    "    nbar  = len(scalex)*norient\n",
    "    nedge = len(scalex)*norient\n",
    "    nf    = nbar+nedge+nrotinv\n",
    "    F     = np.zeros([sup,sup,nf])\n",
    "    hsup  = (sup - 1)/2\n",
    "\n",
    "    x = [np.arange(-hsup,hsup+1)]\n",
    "    y = [np.arange(-hsup,hsup+1)]\n",
    "\n",
    "    [x,y] = np.meshgrid(x,y)\n",
    "\n",
    "    orgpts = [x.flatten(), y.flatten()]\n",
    "    orgpts = np.array(orgpts)\n",
    "\n",
    "    count = 0\n",
    "    for scale in range(len(scalex)):\n",
    "        for orient in range(norient):\n",
    "            angle = (np.pi * orient)/norient\n",
    "            c = np.cos(angle)\n",
    "            s = np.sin(angle)\n",
    "            rotpts = [[c+0,-s+0],[s+0,c+0]]\n",
    "            rotpts = np.array(rotpts)\n",
    "            rotpts = np.dot(rotpts,orgpts)\n",
    "            F[:,:,count] = makefilter(scalex[scale], 0, 1, rotpts, sup)\n",
    "            F[:,:,count+nedge] = makefilter(scalex[scale], 0, 2, rotpts, sup)\n",
    "            count = count + 1\n",
    "\n",
    "    count = nbar+nedge\n",
    "    scales = np.sqrt(2) * np.array([1,2,3,4])\n",
    "\n",
    "    for i in range(len(scales)):\n",
    "        F[:,:,count]   = gaussian2d(sup, scales[i])\n",
    "        count = count + 1\n",
    "\n",
    "    for i in range(len(scales)):\n",
    "        F[:,:,count] = log2d(sup, scales[i])\n",
    "        count = count + 1\n",
    "\n",
    "    for i in range(len(scales)):\n",
    "        F[:,:,count] = log2d(sup, 3*scales[i])\n",
    "        count = count + 1\n",
    "\n",
    "    return F"
   ]
  }
 ],
 "metadata": {
  "kernelspec": {
   "display_name": "Python 3 (ipykernel)",
   "language": "python",
   "name": "python3"
  },
  "language_info": {
   "codemirror_mode": {
    "name": "ipython",
    "version": 3
   },
   "file_extension": ".py",
   "mimetype": "text/x-python",
   "name": "python",
   "nbconvert_exporter": "python",
   "pygments_lexer": "ipython3",
   "version": "3.9.12"
  }
 },
 "nbformat": 4,
 "nbformat_minor": 1
}
